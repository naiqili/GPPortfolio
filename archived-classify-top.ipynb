{
 "cells": [
  {
   "cell_type": "code",
   "execution_count": 1,
   "metadata": {},
   "outputs": [],
   "source": [
    "import matplotlib.pyplot as plt\n",
    "import pandas as pd\n",
    "import numpy as np\n",
    "from numpy import exp, abs, log\n",
    "from scipy.special import gamma, factorial\n",
    "import os\n",
    "import scipy.stats as stats\n",
    "import statsmodels.api as sm\n",
    "from utils import *\n",
    "import time\n",
    "import datetime as dt\n",
    "import universal as up\n",
    "from universal import tools, algos\n",
    "from universal.algos import *\n",
    "import itertools\n",
    "from sklearn.metrics import confusion_matrix\n",
    "from sklearn.metrics import classification_report"
   ]
  },
  {
   "cell_type": "code",
   "execution_count": 95,
   "metadata": {},
   "outputs": [],
   "source": [
    "def top_prec(paras, phs, k=10, by_mean=True):\n",
    "    maxiter, subn, lb = paras['maxiter'], paras['subn'], paras['lb']\n",
    "    predY0, std_varY0, sample_Y0 = get_res(paras, phs, maxiter, subn, lb)\n",
    "    \n",
    "    prec_lst = []\n",
    "    for i in range(len(predY0)):\n",
    "        pred = predY0[i]\n",
    "        if by_mean:\n",
    "            idx = np.argsort(abs(pred))[::-1][:k]\n",
    "#             idx = np.argsort(abs(sample_Y0[i]))[::-1][:k]\n",
    "        else:\n",
    "            idx = np.argsort(std_varY0[i])[:k]\n",
    "        bin_pred = pred[idx] > 0\n",
    "        bin_gt = sample_Y0[i, idx] > 0\n",
    "        prec = sum(bin_pred==bin_gt)/k\n",
    "        prec_lst.append(prec)\n",
    "#         print(bin_pred)\n",
    "#         print(bin_gt)\n",
    "#         print()\n",
    "    #     print(prec)\n",
    "    prec_phs_mean = np.mean(prec_lst)\n",
    "    \n",
    "    return prec_phs_mean"
   ]
  },
  {
   "cell_type": "code",
   "execution_count": 96,
   "metadata": {},
   "outputs": [],
   "source": [
    "paras={'dataset':'snp500-12', 'maxiter':5000, 'subn':100, 'lb':5, 'M':20, 'inverse':'True', 'ggd':'True', 'matcnt':30}"
   ]
  },
  {
   "cell_type": "code",
   "execution_count": 97,
   "metadata": {},
   "outputs": [
    {
     "name": "stdout",
     "output_type": "stream",
     "text": [
      "52.67\n",
      "50.00\n",
      "55.67\n",
      "49.33\n",
      "55.67\n",
      "47.33\n",
      "49.00\n",
      "48.33\n",
      "55.33\n",
      "54.67\n",
      "54.33\n",
      "55.33\n",
      "\n",
      "52.31\n"
     ]
    }
   ],
   "source": [
    "k=3\n",
    "by_mean=True\n",
    "\n",
    "lst = []\n",
    "for phs in range(12):\n",
    "    prec = top_prec(paras, phs, k=k, by_mean=by_mean)\n",
    "    print('%.2f'%(100*prec))\n",
    "    lst.append(prec)\n",
    "    \n",
    "print()\n",
    "print('%.2f'%(100*np.mean(lst)))"
   ]
  },
  {
   "cell_type": "code",
   "execution_count": null,
   "metadata": {},
   "outputs": [],
   "source": []
  },
  {
   "cell_type": "code",
   "execution_count": null,
   "metadata": {},
   "outputs": [],
   "source": []
  }
 ],
 "metadata": {
  "kernelspec": {
   "display_name": "Python 3",
   "language": "python",
   "name": "python3"
  },
  "language_info": {
   "codemirror_mode": {
    "name": "ipython",
    "version": 3
   },
   "file_extension": ".py",
   "mimetype": "text/x-python",
   "name": "python",
   "nbconvert_exporter": "python",
   "pygments_lexer": "ipython3",
   "version": "3.7.9"
  }
 },
 "nbformat": 4,
 "nbformat_minor": 4
}
